{
 "cells": [
  {
   "cell_type": "code",
   "execution_count": 1,
   "id": "8a01fdf0-581d-4b6d-96f9-6354966ebae3",
   "metadata": {},
   "outputs": [],
   "source": [
    "from sklearn.metrics import classification_report, confusion_matrix\n"
   ]
  },
  {
   "cell_type": "markdown",
   "id": "81d809f6-c215-4c68-9931-be2dbb9bca03",
   "metadata": {},
   "source": [
    "Step 1: Evaluation Tools\n",
    "We are importing tools to evaluate the performance of each model.  \n",
    "- `classification_report()` shows precision, recall, f1-score, and accuracy.  \n",
    "- `confusion_matrix()` shows true/false positives and negatives."
   ]
  },
  {
   "cell_type": "code",
   "execution_count": 7,
   "id": "58e758e8-3ff4-4d80-a709-d809e171636d",
   "metadata": {},
   "outputs": [],
   "source": [
    "import pandas as pd\n",
    "\n",
    "df = pd.read_csv(\"C:/Users/user/Desktop/WA_Fn-UseC_-Telco-Customer-Churn.csv\")"
   ]
  },
  {
   "cell_type": "code",
   "execution_count": 8,
   "id": "4af55855-c131-48e4-944c-617e24f32892",
   "metadata": {},
   "outputs": [],
   "source": [
    "df['TotalCharges'] = pd.to_numeric(df['TotalCharges'], errors='coerce')\n",
    "df['TotalCharges'] = df['TotalCharges'].fillna(df['TotalCharges'].median())\n",
    "\n",
    "from sklearn.preprocessing import LabelEncoder\n",
    "\n",
    "le = LabelEncoder()\n",
    "for column in df.columns:\n",
    "    if df[column].dtype == 'object':\n",
    "        df[column] = le.fit_transform(df[column])\n"
   ]
  },
  {
   "cell_type": "code",
   "execution_count": 9,
   "id": "32a44c58-25d0-474b-ae79-96cd944fbd54",
   "metadata": {},
   "outputs": [],
   "source": [
    "X = df.drop('Churn', axis=1)\n",
    "y = df['Churn']\n",
    "\n",
    "from sklearn.model_selection import train_test_split\n",
    "X_train, X_test, y_train, y_test = train_test_split(X, y, test_size=0.2, random_state=42)\n"
   ]
  },
  {
   "cell_type": "code",
   "execution_count": 10,
   "id": "7a18791c-4548-4982-84f6-8e855aa09c3a",
   "metadata": {},
   "outputs": [],
   "source": [
    "# Split the dataset again \n",
    "X = df.drop('Churn', axis=1)\n",
    "y = df['Churn']\n",
    "\n",
    "from sklearn.model_selection import train_test_split\n",
    "\n",
    "X_train, X_test, y_train, y_test = train_test_split(X, y, test_size=0.2, random_state=42)\n"
   ]
  },
  {
   "cell_type": "code",
   "execution_count": 12,
   "id": "a600b90b-0186-4216-9a6a-5ce479d57f07",
   "metadata": {},
   "outputs": [
    {
     "name": "stderr",
     "output_type": "stream",
     "text": [
      "C:\\Users\\user\\anaconda3\\Lib\\site-packages\\sklearn\\linear_model\\_logistic.py:469: ConvergenceWarning: lbfgs failed to converge (status=1):\n",
      "STOP: TOTAL NO. of ITERATIONS REACHED LIMIT.\n",
      "\n",
      "Increase the number of iterations (max_iter) or scale the data as shown in:\n",
      "    https://scikit-learn.org/stable/modules/preprocessing.html\n",
      "Please also refer to the documentation for alternative solver options:\n",
      "    https://scikit-learn.org/stable/modules/linear_model.html#logistic-regression\n",
      "  n_iter_i = _check_optimize_result(\n"
     ]
    }
   ],
   "source": [
    "from sklearn.linear_model import LogisticRegression\n",
    "\n",
    "log_model = LogisticRegression(max_iter=2000)\n",
    "log_model.fit(X_train, y_train)\n",
    "\n",
    "y_pred_log = log_model.predict(X_test)\n"
   ]
  },
  {
   "cell_type": "markdown",
   "id": "4d2db3db-814b-4fd7-ad0b-cdbf31478668",
   "metadata": {},
   "source": [
    "##  Logistic Regression Evaluation\n",
    "We use the trained logistic regression model to:\n",
    "- Predict on test data (`y_pred_log`)\n",
    "- Compare with actual test labels (`y_test`)\n",
    "- View classification report and confusion matrix"
   ]
  },
  {
   "cell_type": "code",
   "execution_count": 25,
   "id": "d9ec6542-4388-4b01-a52e-cc73a82fa172",
   "metadata": {},
   "outputs": [
    {
     "name": "stdout",
     "output_type": "stream",
     "text": [
      " Logistic Regression:\n",
      "\n",
      "              precision    recall  f1-score   support\n",
      "\n",
      "           0       0.85      0.90      0.88      1036\n",
      "           1       0.68      0.57      0.62       373\n",
      "\n",
      "    accuracy                           0.81      1409\n",
      "   macro avg       0.77      0.74      0.75      1409\n",
      "weighted avg       0.81      0.81      0.81      1409\n",
      "\n",
      "Confusion Matrix:\n",
      " [[935 101]\n",
      " [160 213]]\n"
     ]
    }
   ],
   "source": [
    "from sklearn.metrics import classification_report, confusion_matrix\n",
    "\n",
    "# Logistic Regression\n",
    "print(\" Logistic Regression:\\n\")\n",
    "print(classification_report(y_test, y_pred_log))\n",
    "print(\"Confusion Matrix:\\n\", confusion_matrix(y_test, y_pred_log))\n"
   ]
  },
  {
   "cell_type": "code",
   "execution_count": 26,
   "id": "3c3bb82c-f92d-4edc-8df9-970dcbf71161",
   "metadata": {},
   "outputs": [
    {
     "name": "stdout",
     "output_type": "stream",
     "text": [
      " Logistic Regression Results:\n",
      "\n",
      "              precision    recall  f1-score   support\n",
      "\n",
      "           0       0.85      0.90      0.88      1036\n",
      "           1       0.68      0.57      0.62       373\n",
      "\n",
      "    accuracy                           0.81      1409\n",
      "   macro avg       0.77      0.74      0.75      1409\n",
      "weighted avg       0.81      0.81      0.81      1409\n",
      "\n",
      "Confusion Matrix:\n",
      " [[935 101]\n",
      " [160 213]]\n"
     ]
    }
   ],
   "source": [
    "# Logistic Regression Evaluation\n",
    "print(\" Logistic Regression Results:\\n\")\n",
    "print(classification_report(y_test, y_pred_log))\n",
    "print(\"Confusion Matrix:\\n\", confusion_matrix(y_test, y_pred_log))\n"
   ]
  },
  {
   "cell_type": "code",
   "execution_count": 20,
   "id": "e5684ab1-f500-4610-9e3e-d85b433b38de",
   "metadata": {},
   "outputs": [],
   "source": [
    "from sklearn.ensemble import RandomForestClassifier\n",
    "\n",
    "rf_model = RandomForestClassifier()\n",
    "rf_model.fit(X_train, y_train)\n",
    "\n",
    "y_pred_rf = rf_model.predict(X_test)\n"
   ]
  },
  {
   "cell_type": "markdown",
   "id": "dcb7d1f9-6b6a-416d-8f5a-6b89de383ff1",
   "metadata": {},
   "source": [
    "##  Random Forest Evaluation\n",
    "Same as above — now we evaluate the predictions from the Random Forest model.\n",
    "We will compare it against Logistic Regression to see if performance improves."
   ]
  },
  {
   "cell_type": "code",
   "execution_count": 27,
   "id": "2d1fe573-4cd9-453c-a20b-3879209849f3",
   "metadata": {},
   "outputs": [
    {
     "name": "stdout",
     "output_type": "stream",
     "text": [
      "\n",
      " Random Forest Results:\n",
      "\n",
      "              precision    recall  f1-score   support\n",
      "\n",
      "           0       0.83      0.90      0.86      1036\n",
      "           1       0.64      0.49      0.56       373\n",
      "\n",
      "    accuracy                           0.79      1409\n",
      "   macro avg       0.74      0.70      0.71      1409\n",
      "weighted avg       0.78      0.79      0.78      1409\n",
      "\n",
      "Confusion Matrix:\n",
      " [[933 103]\n",
      " [189 184]]\n"
     ]
    }
   ],
   "source": [
    "from sklearn.metrics import classification_report, confusion_matrix\n",
    "\n",
    "print(\"\\n Random Forest Results:\\n\")\n",
    "print(classification_report(y_test, y_pred_rf))\n",
    "print(\"Confusion Matrix:\\n\", confusion_matrix(y_test, y_pred_rf))\n"
   ]
  },
  {
   "cell_type": "code",
   "execution_count": 23,
   "id": "d74575ff-bc6d-471b-ad94-4b4175d45113",
   "metadata": {},
   "outputs": [
    {
     "name": "stderr",
     "output_type": "stream",
     "text": [
      "C:\\Users\\user\\anaconda3\\Lib\\site-packages\\xgboost\\training.py:183: UserWarning: [12:33:06] WARNING: C:\\actions-runner\\_work\\xgboost\\xgboost\\src\\learner.cc:738: \n",
      "Parameters: { \"use_label_encoder\" } are not used.\n",
      "\n",
      "  bst.update(dtrain, iteration=i, fobj=obj)\n"
     ]
    }
   ],
   "source": [
    "from xgboost import XGBClassifier\n",
    "\n",
    "xgb_model = XGBClassifier(use_label_encoder=False, eval_metric='logloss')\n",
    "xgb_model.fit(X_train, y_train)\n",
    "\n",
    "y_pred_xgb = xgb_model.predict(X_test)\n"
   ]
  },
  {
   "cell_type": "markdown",
   "id": "ead09c70-6c90-421c-a2a9-4964c1d97fc4",
   "metadata": {},
   "source": [
    "##  XGBoost Evaluation\n",
    "XGBoost is often powerful for classification.  \n",
    "We check if it gives better recall and f1-score for 'churn = 1' class.\n"
   ]
  },
  {
   "cell_type": "code",
   "execution_count": 28,
   "id": "c78ec4bf-de82-4ea2-9c5a-e708b9923e8f",
   "metadata": {},
   "outputs": [
    {
     "name": "stdout",
     "output_type": "stream",
     "text": [
      "\n",
      " XGBoost Results:\n",
      "\n",
      "              precision    recall  f1-score   support\n",
      "\n",
      "           0       0.84      0.88      0.86      1036\n",
      "           1       0.61      0.53      0.57       373\n",
      "\n",
      "    accuracy                           0.78      1409\n",
      "   macro avg       0.72      0.70      0.71      1409\n",
      "weighted avg       0.78      0.78      0.78      1409\n",
      "\n",
      "Confusion Matrix:\n",
      " [[907 129]\n",
      " [175 198]]\n"
     ]
    }
   ],
   "source": [
    "print(\"\\n XGBoost Results:\\n\")\n",
    "print(classification_report(y_test, y_pred_xgb))\n",
    "print(\"Confusion Matrix:\\n\", confusion_matrix(y_test, y_pred_xgb))\n"
   ]
  },
  {
   "cell_type": "markdown",
   "id": "f981c625-bb15-4cce-9b3c-8e1eb2f6d907",
   "metadata": {},
   "source": [
    "## 📈 Evaluation Summary\n",
    "\n",
    "| Model              | Accuracy | Precision (Churn=1) | Recall (Churn=1) | F1-Score (Churn=1) |\n",
    "|-------------------|----------|---------------------|------------------|--------------------|\n",
    "| Logistic Regression |   0.81         0.68                  0.57       |         0.62\n",
    "| Random Forest       |   0.79         0.64                  0.49                 0.56          |\n",
    "| XGBoost                 0.78           0.61                  0.53               0.57               |\n",
    "\n",
    " Based on the above:\n",
    "- XGBoost gave the best performance.\n",
    "- Since our goal is to detect churn, we prefer the model with highest recall for churn class (1).\n",
    "\n",
    " Final Chosen Model: XGBoost\n"
   ]
  }
 ],
 "metadata": {
  "kernelspec": {
   "display_name": "Python 3 (ipykernel)",
   "language": "python",
   "name": "python3"
  },
  "language_info": {
   "codemirror_mode": {
    "name": "ipython",
    "version": 3
   },
   "file_extension": ".py",
   "mimetype": "text/x-python",
   "name": "python",
   "nbconvert_exporter": "python",
   "pygments_lexer": "ipython3",
   "version": "3.12.7"
  }
 },
 "nbformat": 4,
 "nbformat_minor": 5
}
